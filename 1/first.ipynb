{
 "cells": [
  {
   "cell_type": "code",
   "execution_count": 1,
   "id": "9264ae1e-e184-4002-aa54-c607e3eb7721",
   "metadata": {},
   "outputs": [
    {
     "name": "stdout",
     "output_type": "stream",
     "text": [
      "\n",
      " File: dailyActivity_merged.csv\n",
      "Shape: 940 rows × 15 columns\n",
      "Columns: ['Id', 'ActivityDate', 'TotalSteps', 'TotalDistance', 'TrackerDistance', 'LoggedActivitiesDistance', 'VeryActiveDistance', 'ModeratelyActiveDistance', 'LightActiveDistance', 'SedentaryActiveDistance', 'VeryActiveMinutes', 'FairlyActiveMinutes', 'LightlyActiveMinutes', 'SedentaryMinutes', 'Calories']\n",
      "\n",
      " File: dailyCalories_merged.csv\n",
      "Shape: 940 rows × 3 columns\n",
      "Columns: ['Id', 'ActivityDay', 'Calories']\n",
      "\n",
      " File: dailyIntensities_merged.csv\n",
      "Shape: 940 rows × 10 columns\n",
      "Columns: ['Id', 'ActivityDay', 'SedentaryMinutes', 'LightlyActiveMinutes', 'FairlyActiveMinutes', 'VeryActiveMinutes', 'SedentaryActiveDistance', 'LightActiveDistance', 'ModeratelyActiveDistance', 'VeryActiveDistance']\n",
      "\n",
      " File: dailySteps_merged.csv\n",
      "Shape: 940 rows × 3 columns\n",
      "Columns: ['Id', 'ActivityDay', 'StepTotal']\n",
      "\n",
      " File: heartrate_seconds_merged.csv\n",
      "Shape: 2483658 rows × 3 columns\n",
      "Columns: ['Id', 'Time', 'Value']\n",
      "\n",
      " File: hourlyCalories_merged.csv\n",
      "Shape: 22099 rows × 3 columns\n",
      "Columns: ['Id', 'ActivityHour', 'Calories']\n",
      "\n",
      " File: hourlyIntensities_merged.csv\n",
      "Shape: 22099 rows × 4 columns\n",
      "Columns: ['Id', 'ActivityHour', 'TotalIntensity', 'AverageIntensity']\n",
      "\n",
      " File: hourlySteps_merged.csv\n",
      "Shape: 22099 rows × 3 columns\n",
      "Columns: ['Id', 'ActivityHour', 'StepTotal']\n",
      "\n",
      " File: minuteCaloriesNarrow_merged.csv\n",
      "Shape: 1325580 rows × 3 columns\n",
      "Columns: ['Id', 'ActivityMinute', 'Calories']\n",
      "\n",
      " File: minuteCaloriesWide_merged.csv\n",
      "Shape: 21645 rows × 62 columns\n",
      "Columns: ['Id', 'ActivityHour', 'Calories00', 'Calories01', 'Calories02', 'Calories03', 'Calories04', 'Calories05', 'Calories06', 'Calories07', 'Calories08', 'Calories09', 'Calories10', 'Calories11', 'Calories12', 'Calories13', 'Calories14', 'Calories15', 'Calories16', 'Calories17', 'Calories18', 'Calories19', 'Calories20', 'Calories21', 'Calories22', 'Calories23', 'Calories24', 'Calories25', 'Calories26', 'Calories27', 'Calories28', 'Calories29', 'Calories30', 'Calories31', 'Calories32', 'Calories33', 'Calories34', 'Calories35', 'Calories36', 'Calories37', 'Calories38', 'Calories39', 'Calories40', 'Calories41', 'Calories42', 'Calories43', 'Calories44', 'Calories45', 'Calories46', 'Calories47', 'Calories48', 'Calories49', 'Calories50', 'Calories51', 'Calories52', 'Calories53', 'Calories54', 'Calories55', 'Calories56', 'Calories57', 'Calories58', 'Calories59']\n",
      "\n",
      " File: minuteIntensitiesNarrow_merged.csv\n",
      "Shape: 1325580 rows × 3 columns\n",
      "Columns: ['Id', 'ActivityMinute', 'Intensity']\n",
      "\n",
      " File: minuteIntensitiesWide_merged.csv\n",
      "Shape: 21645 rows × 62 columns\n",
      "Columns: ['Id', 'ActivityHour', 'Intensity00', 'Intensity01', 'Intensity02', 'Intensity03', 'Intensity04', 'Intensity05', 'Intensity06', 'Intensity07', 'Intensity08', 'Intensity09', 'Intensity10', 'Intensity11', 'Intensity12', 'Intensity13', 'Intensity14', 'Intensity15', 'Intensity16', 'Intensity17', 'Intensity18', 'Intensity19', 'Intensity20', 'Intensity21', 'Intensity22', 'Intensity23', 'Intensity24', 'Intensity25', 'Intensity26', 'Intensity27', 'Intensity28', 'Intensity29', 'Intensity30', 'Intensity31', 'Intensity32', 'Intensity33', 'Intensity34', 'Intensity35', 'Intensity36', 'Intensity37', 'Intensity38', 'Intensity39', 'Intensity40', 'Intensity41', 'Intensity42', 'Intensity43', 'Intensity44', 'Intensity45', 'Intensity46', 'Intensity47', 'Intensity48', 'Intensity49', 'Intensity50', 'Intensity51', 'Intensity52', 'Intensity53', 'Intensity54', 'Intensity55', 'Intensity56', 'Intensity57', 'Intensity58', 'Intensity59']\n",
      "\n",
      " File: minuteMETsNarrow_merged.csv\n",
      "Shape: 1325580 rows × 3 columns\n",
      "Columns: ['Id', 'ActivityMinute', 'METs']\n",
      "\n",
      " File: minuteSleep_merged.csv\n",
      "Shape: 188521 rows × 4 columns\n",
      "Columns: ['Id', 'date', 'value', 'logId']\n",
      "\n",
      " File: minuteStepsNarrow_merged.csv\n",
      "Shape: 1325580 rows × 3 columns\n",
      "Columns: ['Id', 'ActivityMinute', 'Steps']\n",
      "\n",
      " File: minuteStepsWide_merged.csv\n",
      "Shape: 21645 rows × 62 columns\n",
      "Columns: ['Id', 'ActivityHour', 'Steps00', 'Steps01', 'Steps02', 'Steps03', 'Steps04', 'Steps05', 'Steps06', 'Steps07', 'Steps08', 'Steps09', 'Steps10', 'Steps11', 'Steps12', 'Steps13', 'Steps14', 'Steps15', 'Steps16', 'Steps17', 'Steps18', 'Steps19', 'Steps20', 'Steps21', 'Steps22', 'Steps23', 'Steps24', 'Steps25', 'Steps26', 'Steps27', 'Steps28', 'Steps29', 'Steps30', 'Steps31', 'Steps32', 'Steps33', 'Steps34', 'Steps35', 'Steps36', 'Steps37', 'Steps38', 'Steps39', 'Steps40', 'Steps41', 'Steps42', 'Steps43', 'Steps44', 'Steps45', 'Steps46', 'Steps47', 'Steps48', 'Steps49', 'Steps50', 'Steps51', 'Steps52', 'Steps53', 'Steps54', 'Steps55', 'Steps56', 'Steps57', 'Steps58', 'Steps59']\n",
      "\n",
      " File: sleepDay_merged.csv\n",
      "Shape: 413 rows × 5 columns\n",
      "Columns: ['Id', 'SleepDay', 'TotalSleepRecords', 'TotalMinutesAsleep', 'TotalTimeInBed']\n",
      "\n",
      " File: weightLogInfo_merged.csv\n",
      "Shape: 67 rows × 8 columns\n",
      "Columns: ['Id', 'Date', 'WeightKg', 'WeightPounds', 'Fat', 'BMI', 'IsManualReport', 'LogId']\n"
     ]
    }
   ],
   "source": [
    "import os\n",
    "import pandas as pd\n",
    "\n",
    "# Set your folder path\n",
    "folder_path = r\"D:\\internship\\proj 3\\Data Files\"\n",
    "\n",
    "# List all CSV files and inspect their structure\n",
    "for file in os.listdir(folder_path):\n",
    "    if file.endswith(\".csv\"):\n",
    "        file_path = os.path.join(folder_path, file)\n",
    "        try:\n",
    "            df = pd.read_csv(file_path)\n",
    "            print(f\"\\n File: {file}\")\n",
    "            print(f\"Shape: {df.shape[0]} rows × {df.shape[1]} columns\")\n",
    "            print(f\"Columns: {list(df.columns)}\")\n",
    "        except Exception as e:\n",
    "            print(f\"Could not read {file}: {e}\")"
   ]
  },
  {
   "cell_type": "markdown",
   "id": "66f04f2a-6316-4a68-b021-273c945a48ff",
   "metadata": {},
   "source": [
    "# Reason for Choosing Only 3 Out of 18 CSV Files\n"
   ]
  },
  {
   "cell_type": "markdown",
   "id": "9aa26d10-b76f-4ace-80f2-417fd6c0a1e4",
   "metadata": {},
   "source": [
    "Out of the 18 available CSV files in the Strava dataset, only three were selected for analysis: dailyActivity_merged.csv, sleepDay_merged.csv, and weightLogInfo_merged.csv. These three files were chosen because they contain the most relevant and comprehensive information needed to understand user behavior in terms of physical activity, sleep, and health metrics.\n",
    "\n",
    "The dailyActivity_merged.csv file was selected as it includes key information such as steps taken, calories burned, distances covered, and different levels of activity intensity (very active, lightly active, sedentary, etc.). This file alone combines what is already separately stored in files like dailySteps_merged.csv, dailyCalories_merged.csv, and dailyIntensities_merged.csv, making it the most efficient and complete source for daily movement and exercise data.\n",
    "\n",
    "The sleepDay_merged.csv file was chosen because it provides critical data about users' sleep behavior, specifically total minutes asleep and total time spent in bed. These values are essential for calculating sleep efficiency and analyzing how physical activity might influence rest patterns.\n",
    "\n",
    "The third file, weightLogInfo_merged.csv, adds valuable health context by providing weight and BMI information. Although some columns like Fat had too many missing values to be useful, the weight and BMI fields were clean and consistent enough to contribute meaningfully to the analysis.\n",
    "\n",
    "The remaining 15 files were not used due to redundancy or unsuitability for summary-level analysis. For instance, files such as dailySteps_merged.csv and dailyCalories_merged.csv were skipped because their data is already included in dailyActivity_merged.csv. Files like minuteStepsNarrow_merged.csv and heartrate_seconds_merged.csv were excluded because they contain highly granular data (per-minute or per-second), which is better suited for detailed Python-based analysis rather than SQL or dashboard-level reporting. Similarly, files like minuteCaloriesWide_merged.csv are stored in a wide format with more than 1,400 columns, which is not practical to use in SQL or Power BI.\n",
    "\n",
    "In conclusion, these three selected CSV files offered the cleanest, most interpretable, and analysis-ready daily-level data across the three most important health aspects: activity, sleep, and body composition. They were merged using user ID and date fields to create a master dataset (cleaned_master.csv), which was then used consistently across SQL queries, Power BI dashboards, and Python-based exploratory analysis.\n",
    "\n"
   ]
  },
  {
   "cell_type": "code",
   "execution_count": 7,
   "id": "18a4a16c-97e5-4c85-b056-8f09ee014c66",
   "metadata": {},
   "outputs": [
    {
     "name": "stdout",
     "output_type": "stream",
     "text": [
      " Cleaned file created successfully.\n"
     ]
    }
   ],
   "source": [
    "import pandas as pd\n",
    "\n",
    "# Load datasets\n",
    "a = pd.read_csv(r\"D:\\internship\\proj 3\\Data Files\\dailyActivity_merged.csv\")\n",
    "s = pd.read_csv(r\"D:\\internship\\proj 3\\Data Files\\sleepDay_merged.csv\")\n",
    "w = pd.read_csv(r\"D:\\internship\\proj 3\\Data Files\\weightLogInfo_merged.csv\")\n",
    "\n",
    "# Convert date columns with correct format\n",
    "a['ActivityDate'] = pd.to_datetime(a['ActivityDate'], format=\"%m/%d/%Y\")\n",
    "s['SleepDay'] = pd.to_datetime(s['SleepDay'], format=\"%m/%d/%Y %I:%M:%S %p\")\n",
    "w['Date'] = pd.to_datetime(w['Date'], format=\"%m/%d/%Y %I:%M:%S %p\")\n",
    "\n",
    "# Merge activity + sleep\n",
    "df = pd.merge(a, s, left_on=['Id', 'ActivityDate'], right_on=['Id', 'SleepDay'], how='left')\n",
    "\n",
    "# Merge weight + BMI\n",
    "df = pd.merge(df, w[['Id', 'Date', 'WeightKg', 'BMI']], left_on=['Id', 'ActivityDate'], right_on=['Id', 'Date'], how='left')\n",
    "\n",
    "# Save final cleaned dataset\n",
    "df.to_csv(r\"D:\\internship\\proj 3\\cleaned_master.csv\", index=False)\n",
    "print(\" Cleaned file created successfully.\")\n"
   ]
  },
  {
   "cell_type": "code",
   "execution_count": null,
   "id": "1851020a-e069-4863-baf1-dd8a4b778069",
   "metadata": {},
   "outputs": [],
   "source": []
  }
 ],
 "metadata": {
  "kernelspec": {
   "display_name": "Python 3 (ipykernel)",
   "language": "python",
   "name": "python3"
  },
  "language_info": {
   "codemirror_mode": {
    "name": "ipython",
    "version": 3
   },
   "file_extension": ".py",
   "mimetype": "text/x-python",
   "name": "python",
   "nbconvert_exporter": "python",
   "pygments_lexer": "ipython3",
   "version": "3.10.11"
  }
 },
 "nbformat": 4,
 "nbformat_minor": 5
}
